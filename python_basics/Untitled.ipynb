{
 "cells": [
  {
   "cell_type": "markdown",
   "id": "52eee34c",
   "metadata": {},
   "source": [
    "## Python Basics Introduction"
   ]
  },
  {
   "cell_type": "markdown",
   "id": "a5a56359",
   "metadata": {},
   "source": [
    "#### Putting Comments"
   ]
  },
  {
   "cell_type": "code",
   "execution_count": 1,
   "id": "56868cad",
   "metadata": {},
   "outputs": [],
   "source": [
    "# In python we use '#' to write comments. Comments help describe the code written"
   ]
  },
  {
   "cell_type": "markdown",
   "id": "5db6a7dd",
   "metadata": {},
   "source": [
    "#### Literal Constants"
   ]
  },
  {
   "cell_type": "code",
   "execution_count": null,
   "id": "c2193a0e",
   "metadata": {},
   "outputs": [],
   "source": []
  }
 ],
 "metadata": {
  "kernelspec": {
   "display_name": "Python 3 (ipykernel)",
   "language": "python",
   "name": "python3"
  },
  "language_info": {
   "codemirror_mode": {
    "name": "ipython",
    "version": 3
   },
   "file_extension": ".py",
   "mimetype": "text/x-python",
   "name": "python",
   "nbconvert_exporter": "python",
   "pygments_lexer": "ipython3",
   "version": "3.7.3"
  }
 },
 "nbformat": 4,
 "nbformat_minor": 5
}
