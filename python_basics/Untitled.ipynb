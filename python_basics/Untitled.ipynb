{
 "cells": [
  {
   "cell_type": "markdown",
   "id": "52eee34c",
   "metadata": {},
   "source": [
    "## Python Basics Introduction"
   ]
  },
  {
   "cell_type": "markdown",
   "id": "a5a56359",
   "metadata": {},
   "source": [
    "#### Putting Comments"
   ]
  },
  {
   "cell_type": "code",
   "execution_count": 1,
   "id": "56868cad",
   "metadata": {},
   "outputs": [],
   "source": [
    "# In python we use '#' to write comments. Comments help describe the code written"
   ]
  },
  {
   "cell_type": "markdown",
   "id": "794a895a",
   "metadata": {},
   "source": [
    "#### Literal Constants\n",
    "\n",
    "- Numbers\n",
    " - Integers\n",
    " - Floats\n",
    " - Complex Numbers\n",
    " \n",
    "- Strings\n",
    " - Single quotes\n",
    " - Double quotes\n",
    " - Triple quotes\n",
    " - Escape Sequences(\\n,\\t,\\r)\n",
    " - Explicit line joining"
   ]
  },
  {
   "cell_type": "markdown",
   "id": "4aee288b",
   "metadata": {},
   "source": [
    "##### Numbers"
   ]
  },
  {
   "cell_type": "markdown",
   "id": "917b3a00",
   "metadata": {},
   "source": [
    "###### Int Type"
   ]
  },
  {
   "cell_type": "code",
   "execution_count": 9,
   "id": "c2193a0e",
   "metadata": {},
   "outputs": [
    {
     "data": {
      "text/plain": [
       "int"
      ]
     },
     "execution_count": 9,
     "metadata": {},
     "output_type": "execute_result"
    }
   ],
   "source": [
    "a = 5\n",
    "type(a)"
   ]
  },
  {
   "cell_type": "markdown",
   "id": "713413fc",
   "metadata": {},
   "source": [
    "###### Float Type"
   ]
  },
  {
   "cell_type": "code",
   "execution_count": 10,
   "id": "83204ea0",
   "metadata": {},
   "outputs": [
    {
     "data": {
      "text/plain": [
       "float"
      ]
     },
     "execution_count": 10,
     "metadata": {},
     "output_type": "execute_result"
    }
   ],
   "source": [
    "a = 5.1\n",
    "type(a)"
   ]
  },
  {
   "cell_type": "markdown",
   "id": "bfed593a",
   "metadata": {},
   "source": [
    "###### Complex Number Type\n"
   ]
  },
  {
   "cell_type": "code",
   "execution_count": 11,
   "id": "d7cabae3",
   "metadata": {},
   "outputs": [
    {
     "data": {
      "text/plain": [
       "complex"
      ]
     },
     "execution_count": 11,
     "metadata": {},
     "output_type": "execute_result"
    }
   ],
   "source": [
    "a = 5 + 2j #for complex part, use j not i\n",
    "type(a)"
   ]
  },
  {
   "cell_type": "markdown",
   "id": "99129f39",
   "metadata": {},
   "source": [
    "##### Strings"
   ]
  },
  {
   "cell_type": "markdown",
   "id": "da3c01f2",
   "metadata": {},
   "source": [
    "###### Examples of valid strings"
   ]
  },
  {
   "cell_type": "code",
   "execution_count": 13,
   "id": "3f7fe273",
   "metadata": {},
   "outputs": [
    {
     "name": "stdout",
     "output_type": "stream",
     "text": [
      "python\n",
      "coding blocks\n",
      "\n",
      "This is a multiline character string\n",
      "\n",
      "\n",
      "this is also a multiline string\n",
      "\n"
     ]
    }
   ],
   "source": [
    "a = \"python\"\n",
    "print(a)\n",
    "\n",
    "a = 'coding blocks'\n",
    "print(a)\n",
    "\n",
    "a = '''\n",
    "This is a multiline character string\n",
    "'''\n",
    "print(a)\n",
    "\n",
    "a = \"\"\"\n",
    "this is also a multiline string\n",
    "\"\"\"\n",
    "print(a)"
   ]
  },
  {
   "cell_type": "markdown",
   "id": "359e9041",
   "metadata": {},
   "source": [
    "##### Variables"
   ]
  },
  {
   "cell_type": "markdown",
   "id": "5b9f41d5",
   "metadata": {},
   "source": [
    "Is a type of **identifier**. \n",
    "\n",
    "Rules for naming identifiers:\n",
    "    - First character **cannot be a number**\n",
    "    -  The rest can be either any character/special character/number"
   ]
  },
  {
   "cell_type": "code",
   "execution_count": null,
   "id": "3691f9d5",
   "metadata": {},
   "outputs": [],
   "source": []
  }
 ],
 "metadata": {
  "kernelspec": {
   "display_name": "Python 3 (ipykernel)",
   "language": "python",
   "name": "python3"
  },
  "language_info": {
   "codemirror_mode": {
    "name": "ipython",
    "version": 3
   },
   "file_extension": ".py",
   "mimetype": "text/x-python",
   "name": "python",
   "nbconvert_exporter": "python",
   "pygments_lexer": "ipython3",
   "version": "3.7.3"
  }
 },
 "nbformat": 4,
 "nbformat_minor": 5
}
