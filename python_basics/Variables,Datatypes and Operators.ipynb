{
 "cells": [
  {
   "cell_type": "markdown",
   "id": "00f05dc7",
   "metadata": {},
   "source": [
    "## Variables, Datatypes and Operators"
   ]
  },
  {
   "cell_type": "markdown",
   "id": "373f5c1d",
   "metadata": {},
   "source": [
    "#### Variables\n",
    "\n",
    "- What are variables?\n",
    "  - They are buckets that store data\n",
    "  "
   ]
  },
  {
   "cell_type": "markdown",
   "id": "5e33deef",
   "metadata": {},
   "source": [
    "#### Datatypes\n",
    "\n",
    "- There are 2 main types of datatypes - **primitive** and **advanced**\n",
    "\n",
    "##### Primitive Data Types\n",
    "- int\n",
    "- float\n",
    "- str\n",
    "- complex\n",
    "- bool\n",
    "\n",
    "##### Advanced Data Types\n",
    "- sets\n",
    "- dictionaries\n",
    "- tuples\n",
    "- lists"
   ]
  },
  {
   "cell_type": "markdown",
   "id": "d8993241",
   "metadata": {},
   "source": [
    "#### Arithmetic Operators\n",
    "\n",
    "1. +\n",
    "2. -\n",
    "3. *\n",
    "4. /\n",
    "5. **\n",
    "6. //\n",
    "7. %"
   ]
  },
  {
   "cell_type": "code",
   "execution_count": 4,
   "id": "9614f603",
   "metadata": {},
   "outputs": [
    {
     "name": "stdout",
     "output_type": "stream",
     "text": [
      "31\n",
      "-11\n",
      "210\n",
      "0.47619047619047616\n",
      "0.4762\n",
      "1000000000000000000000\n",
      "0\n",
      "10\n"
     ]
    }
   ],
   "source": [
    "a = 10\n",
    "b = 21\n",
    "\n",
    "print(a+b)\n",
    "print(a-b)\n",
    "print(a*b)\n",
    "print(a/b)\n",
    "print(\"%0.4f\"%(a/b)) #Getting the answer in 4dp\n",
    "print(a**b) #a^b\n",
    "print(a//b) #a/b value as an integer\n",
    "print(a%b)"
   ]
  },
  {
   "cell_type": "markdown",
   "id": "3c94e16a",
   "metadata": {},
   "source": [
    "#### Multiple Variable Assignment"
   ]
  },
  {
   "cell_type": "code",
   "execution_count": 9,
   "id": "99247527",
   "metadata": {},
   "outputs": [],
   "source": [
    "a,b,c = 10,20,30"
   ]
  },
  {
   "cell_type": "code",
   "execution_count": 10,
   "id": "0557d1ba",
   "metadata": {},
   "outputs": [
    {
     "name": "stdout",
     "output_type": "stream",
     "text": [
      "10\n",
      "20\n",
      "30\n"
     ]
    }
   ],
   "source": [
    "print(a)\n",
    "print(b)\n",
    "print(c)"
   ]
  },
  {
   "cell_type": "code",
   "execution_count": null,
   "id": "35244c9d",
   "metadata": {},
   "outputs": [],
   "source": []
  }
 ],
 "metadata": {
  "kernelspec": {
   "display_name": "Python 3 (ipykernel)",
   "language": "python",
   "name": "python3"
  },
  "language_info": {
   "codemirror_mode": {
    "name": "ipython",
    "version": 3
   },
   "file_extension": ".py",
   "mimetype": "text/x-python",
   "name": "python",
   "nbconvert_exporter": "python",
   "pygments_lexer": "ipython3",
   "version": "3.7.3"
  }
 },
 "nbformat": 4,
 "nbformat_minor": 5
}
