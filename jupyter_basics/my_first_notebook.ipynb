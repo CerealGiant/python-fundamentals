{
 "cells": [
  {
   "cell_type": "code",
   "execution_count": 7,
   "id": "9da01f84",
   "metadata": {},
   "outputs": [
    {
     "name": "stdout",
     "output_type": "stream",
     "text": [
      "15\n"
     ]
    }
   ],
   "source": [
    "a = 5\n",
    "b = 10\n",
    "print(a+b)"
   ]
  },
  {
   "cell_type": "code",
   "execution_count": null,
   "id": "7d03ee4f",
   "metadata": {},
   "outputs": [],
   "source": []
  },
  {
   "cell_type": "markdown",
   "id": "bcc4a02c",
   "metadata": {},
   "source": [
    "# Hello World \n",
    "- this is a markdown text\n",
    "- shortcut press **Esc + M** (to change a cell to markdown)\n",
    "- to execute a cell use the shortcut **Esc, Y, Shift+Enter** **Shift + Enter**\n",
    "- to delete a cell press **Esc + d 2 times**\n",
    "- to add a cell above the current cell press **Esc + a**\n",
    "- to add a cell below the current cell press **Esc + b**"
   ]
  },
  {
   "cell_type": "code",
   "execution_count": 8,
   "id": "73815317",
   "metadata": {},
   "outputs": [
    {
     "name": "stdout",
     "output_type": "stream",
     "text": [
      "Hello World\n"
     ]
    }
   ],
   "source": [
    "print(\"Hello World\")"
   ]
  },
  {
   "cell_type": "code",
   "execution_count": null,
   "id": "8de0c07e",
   "metadata": {},
   "outputs": [],
   "source": []
  },
  {
   "cell_type": "code",
   "execution_count": null,
   "id": "9cda379f",
   "metadata": {},
   "outputs": [],
   "source": []
  }
 ],
 "metadata": {
  "kernelspec": {
   "display_name": "Python 3 (ipykernel)",
   "language": "python",
   "name": "python3"
  },
  "language_info": {
   "codemirror_mode": {
    "name": "ipython",
    "version": 3
   },
   "file_extension": ".py",
   "mimetype": "text/x-python",
   "name": "python",
   "nbconvert_exporter": "python",
   "pygments_lexer": "ipython3",
   "version": "3.7.3"
  }
 },
 "nbformat": 4,
 "nbformat_minor": 5
}
