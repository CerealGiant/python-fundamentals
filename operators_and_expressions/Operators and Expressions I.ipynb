{
 "cells": [
  {
   "cell_type": "markdown",
   "id": "e1e6b27f",
   "metadata": {},
   "source": [
    "### Operators and Expressions I\n",
    "\n",
    "- The python interpreter differentiates between **statements** and **expressions**\n",
    "\n",
    "Expressions?\n",
    "\n",
    "- Expressions refer to a combination of **operators and operands**.\n",
    "\n",
    "E.g.\n",
    "        \n",
    "        2*y+5  #here, * and + are operators and 2,y and 5 are operands\n",
    "\n",
    "Statements?\n",
    "\n",
    "- Statements are lines that include **if,else,elif,while,for**.\n",
    "\n",
    "\n",
    "In python, if a line is not a statment, it will be **considered as an expression** and will be evaluated and it **will produce an output.** However, this output is **not the same as what we get from print.**\n",
    "\n",
    "\n",
    "So what is the difference between output of an expression and print?\n",
    "\n",
    "- print function outputs the content within its brackets into the **STDOUT**(terminal output) or txt file. Calling the print function itself is also an **expression** and hence after the print function is done, it evaluates to the value of **NONE** at the end.\n",
    "\n",
    "- while output refers to the answer of the expression"
   ]
  },
  {
   "cell_type": "code",
   "execution_count": 20,
   "id": "2558754d",
   "metadata": {},
   "outputs": [
    {
     "name": "stdout",
     "output_type": "stream",
     "text": [
      "12\n"
     ]
    },
    {
     "data": {
      "text/plain": [
       "13"
      ]
     },
     "execution_count": 20,
     "metadata": {},
     "output_type": "execute_result"
    }
   ],
   "source": [
    "# Here is an example of an arithmetic expression\n",
    "\n",
    "print(10 + 2) #This prints 12 to the STDOUT but the result of this expression will be NONE\n",
    "\n",
    "# The output you are seeing is because the interpreter has evaluated the below expression and \n",
    "# what you see is the result of the expression NOT THE PRINT FUNCTION\n",
    "10 + 3"
   ]
  },
  {
   "cell_type": "code",
   "execution_count": null,
   "id": "fcdb8c52",
   "metadata": {},
   "outputs": [],
   "source": [
    "# Python also supports typecasting"
   ]
  },
  {
   "cell_type": "code",
   "execution_count": null,
   "id": "7ee50cec",
   "metadata": {},
   "outputs": [],
   "source": []
  }
 ],
 "metadata": {
  "kernelspec": {
   "display_name": "Python 3 (ipykernel)",
   "language": "python",
   "name": "python3"
  },
  "language_info": {
   "codemirror_mode": {
    "name": "ipython",
    "version": 3
   },
   "file_extension": ".py",
   "mimetype": "text/x-python",
   "name": "python",
   "nbconvert_exporter": "python",
   "pygments_lexer": "ipython3",
   "version": "3.7.3"
  }
 },
 "nbformat": 4,
 "nbformat_minor": 5
}
