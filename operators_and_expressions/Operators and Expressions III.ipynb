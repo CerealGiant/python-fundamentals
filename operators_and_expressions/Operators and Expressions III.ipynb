{
 "cells": [
  {
   "cell_type": "markdown",
   "id": "e469ed07",
   "metadata": {},
   "source": [
    "### Operators and Expressions III"
   ]
  },
  {
   "cell_type": "markdown",
   "id": "57c9d9ec",
   "metadata": {},
   "source": [
    "#### Logical Operators\n",
    "#### not, and, or\n",
    "\n",
    "- Not reverses the current bool (unary operator)\n",
    "- and is a binary operator\n",
    "- or is a binary operator"
   ]
  },
  {
   "cell_type": "code",
   "execution_count": 8,
   "id": "270d485c",
   "metadata": {},
   "outputs": [
    {
     "data": {
      "text/plain": [
       "bool"
      ]
     },
     "execution_count": 8,
     "metadata": {},
     "output_type": "execute_result"
    }
   ],
   "source": [
    "# In python, true is not exactly a boolean\n",
    "isinstance(True,int) #This means that true is an integer\n",
    "type(True) #Even though true is of the type bool"
   ]
  },
  {
   "cell_type": "markdown",
   "id": "0b43ad8b",
   "metadata": {},
   "source": [
    "Python does not have booleans as primitive types - booleans are nothing but integers\n",
    "\n",
    "Then how do and and or operators work? \n",
    "\n",
    " - They work because of a concept called **Truthy and Falsy Values**.\n",
    "\n",
    "Truthy values are those that are not absoulutely true but can be considered as true in boolean. \n",
    "- Positive integers\n",
    "- Negative integers\n",
    "- Non-Empty String\n",
    "- True itself\n",
    "\n",
    "Falsy values are those that are not absoulutely false but can be considered as falsse in boolean. \n",
    "- Zero\n",
    "- Empty String\n",
    "- False itself\n"
   ]
  },
  {
   "cell_type": "code",
   "execution_count": 11,
   "id": "a74e38e6",
   "metadata": {},
   "outputs": [
    {
     "data": {
      "text/plain": [
       "0"
      ]
     },
     "execution_count": 11,
     "metadata": {},
     "output_type": "execute_result"
    }
   ],
   "source": [
    "5 and 0 #since 5 and 0 are both truthy values"
   ]
  },
  {
   "cell_type": "markdown",
   "id": "bc92eff4",
   "metadata": {},
   "source": [
    "#### Short Circuiting\n",
    "\n",
    "- 0 or B == B (Depends on B)\n",
    "- 1 or B == 1 (Depends on 1)\n",
    "- 0 && B = 0  (Depends on 0)\n",
    "- 1 && B = B (Depends on B)\n",
    "(1 is a truthy value while 0 is a falsy value)\n",
    "\n",
    "These rules are called short-circuiting. Given that we know the first operand, we can compute the output from there itself"
   ]
  },
  {
   "cell_type": "code",
   "execution_count": null,
   "id": "908c752e",
   "metadata": {},
   "outputs": [],
   "source": []
  }
 ],
 "metadata": {
  "kernelspec": {
   "display_name": "Python 3 (ipykernel)",
   "language": "python",
   "name": "python3"
  },
  "language_info": {
   "codemirror_mode": {
    "name": "ipython",
    "version": 3
   },
   "file_extension": ".py",
   "mimetype": "text/x-python",
   "name": "python",
   "nbconvert_exporter": "python",
   "pygments_lexer": "ipython3",
   "version": "3.7.3"
  }
 },
 "nbformat": 4,
 "nbformat_minor": 5
}
