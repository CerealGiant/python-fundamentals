{
 "cells": [
  {
   "cell_type": "markdown",
   "id": "26b0d77d",
   "metadata": {},
   "source": [
    "### Operators and Expressions II"
   ]
  },
  {
   "cell_type": "markdown",
   "id": "dc9e4a14",
   "metadata": {},
   "source": [
    "#### Comparsion Operators\n",
    "\n",
    "\n",
    "| Symbol | Task Performed           |\n",
    "|--------|--------------------------|\n",
    "| ==     | True, if it is equal     |\n",
    "| !=     | True, if not equal to    |\n",
    "| <      | less than                |\n",
    "| >      | greater than             |\n",
    "| <=     | less than or equal to    |\n",
    "| >=     | greater than or equal to |"
   ]
  },
  {
   "cell_type": "code",
   "execution_count": 12,
   "id": "e8a81c2e",
   "metadata": {},
   "outputs": [
    {
     "data": {
      "text/plain": [
       "97"
      ]
     },
     "execution_count": 12,
     "metadata": {},
     "output_type": "execute_result"
    }
   ],
   "source": [
    "# Comparision for strings\n",
    "\n",
    "\"abc\" > \"yz\" #This statement returns false because in python, strings are compared lexicographically(ASCII Value), not by length\n",
    "\n",
    "# To find the ASCII value for any character, use ord function\n",
    "ord('a') #ord function only accepts a single character"
   ]
  },
  {
   "cell_type": "markdown",
   "id": "bcc3dc4d",
   "metadata": {},
   "source": [
    "#### Assignment Operators\n",
    "#### =, +=, -=,*=, /=, %=, **="
   ]
  },
  {
   "cell_type": "code",
   "execution_count": 16,
   "id": "160b5627",
   "metadata": {},
   "outputs": [
    {
     "name": "stdout",
     "output_type": "stream",
     "text": [
      "50\n"
     ]
    }
   ],
   "source": [
    "a = 10\n",
    "a*=5\n",
    "print(a)"
   ]
  },
  {
   "cell_type": "code",
   "execution_count": null,
   "id": "ce101442",
   "metadata": {},
   "outputs": [],
   "source": []
  }
 ],
 "metadata": {
  "kernelspec": {
   "display_name": "Python 3 (ipykernel)",
   "language": "python",
   "name": "python3"
  },
  "language_info": {
   "codemirror_mode": {
    "name": "ipython",
    "version": 3
   },
   "file_extension": ".py",
   "mimetype": "text/x-python",
   "name": "python",
   "nbconvert_exporter": "python",
   "pygments_lexer": "ipython3",
   "version": "3.7.3"
  }
 },
 "nbformat": 4,
 "nbformat_minor": 5
}
