{
 "cells": [
  {
   "cell_type": "markdown",
   "id": "23589857",
   "metadata": {},
   "source": [
    "## Control Flow Statements I"
   ]
  },
  {
   "cell_type": "markdown",
   "id": "d146f699",
   "metadata": {},
   "source": [
    "#### Difference between an expression and statement\n",
    "\n",
    "- An expression looks something like this:\n",
    "    1 + 2 -> Python evaluates these expressions and returns a result\n",
    "\n",
    "- A statement refers to the instructions we give to the Python interpreter for it to follow."
   ]
  },
  {
   "cell_type": "markdown",
   "id": "663b20ab",
   "metadata": {},
   "source": [
    "#### If-else-elif"
   ]
  },
  {
   "cell_type": "code",
   "execution_count": 5,
   "id": "ec639f4e",
   "metadata": {},
   "outputs": [
    {
     "name": "stdout",
     "output_type": "stream",
     "text": [
      "a is greater than 10\n"
     ]
    }
   ],
   "source": [
    "a = 11\n",
    "\n",
    "if a == 10:\n",
    "    print(\"a equals to 10\") # Indentation -> this current line belongs to the statement above it\n",
    "elif a > 10:\n",
    "    print(\"a is greater than 10\")\n",
    "else:\n",
    "    print(\"a is less than 10\")"
   ]
  },
  {
   "cell_type": "markdown",
   "id": "6350ce96",
   "metadata": {},
   "source": [
    "#### Nested If-else statement"
   ]
  },
  {
   "cell_type": "code",
   "execution_count": 7,
   "id": "cfad732f",
   "metadata": {},
   "outputs": [
    {
     "name": "stdout",
     "output_type": "stream",
     "text": [
      "a is divisible by 2!\n",
      "a is equal to 10!\n"
     ]
    }
   ],
   "source": [
    "a = 10\n",
    "if a % 2 == 0:\n",
    "    print(\"a is divisible by 2!\")\n",
    "    if a > 10:\n",
    "        print(\"a is greater than 10!\");\n",
    "    elif a < 10:\n",
    "        print(\"a is less than 10!\")\n",
    "    else:\n",
    "        print(\"a is equal to 10!\")"
   ]
  },
  {
   "cell_type": "markdown",
   "id": "a2e6394c",
   "metadata": {},
   "source": [
    "#### Important Point\n",
    "\n",
    "- If there are multiple if conditions and these if conditions are **mutually exclusive**, then use elif and else to make sure that the interpreter does not run those parts"
   ]
  },
  {
   "cell_type": "code",
   "execution_count": 8,
   "id": "ae28678b",
   "metadata": {},
   "outputs": [
    {
     "name": "stdout",
     "output_type": "stream",
     "text": [
      "positive\n"
     ]
    }
   ],
   "source": [
    "# Wrong Approach since all the 3 conditions(a > 0,a < 0,a == 0) are mutually ex\n",
    "a = 10;\n",
    "\n",
    "if a > 0:\n",
    "    print(\"positive\")\n",
    "if a < 0:\n",
    "    print(\"neagtive\")\n",
    "if a == 0:\n",
    "    print(\"0\")"
   ]
  },
  {
   "cell_type": "code",
   "execution_count": null,
   "id": "52fbf6e2",
   "metadata": {},
   "outputs": [],
   "source": []
  }
 ],
 "metadata": {
  "kernelspec": {
   "display_name": "Python 3 (ipykernel)",
   "language": "python",
   "name": "python3"
  },
  "language_info": {
   "codemirror_mode": {
    "name": "ipython",
    "version": 3
   },
   "file_extension": ".py",
   "mimetype": "text/x-python",
   "name": "python",
   "nbconvert_exporter": "python",
   "pygments_lexer": "ipython3",
   "version": "3.7.3"
  }
 },
 "nbformat": 4,
 "nbformat_minor": 5
}
