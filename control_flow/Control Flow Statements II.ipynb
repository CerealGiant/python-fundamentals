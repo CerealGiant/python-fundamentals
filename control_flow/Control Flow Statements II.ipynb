{
 "cells": [
  {
   "cell_type": "markdown",
   "id": "ccc99784",
   "metadata": {},
   "source": [
    "## Control Flow Statements II"
   ]
  },
  {
   "cell_type": "markdown",
   "id": "7cc69ee4",
   "metadata": {},
   "source": [
    "### Looping Statements"
   ]
  },
  {
   "cell_type": "markdown",
   "id": "c9abcb71",
   "metadata": {},
   "source": [
    "#### 1. While Statements "
   ]
  },
  {
   "cell_type": "code",
   "execution_count": 2,
   "id": "b12a63ea",
   "metadata": {},
   "outputs": [
    {
     "name": "stdout",
     "output_type": "stream",
     "text": [
      "10\n",
      "9\n",
      "8\n",
      "7\n",
      "6\n",
      "5\n",
      "4\n",
      "3\n",
      "2\n",
      "1\n"
     ]
    }
   ],
   "source": [
    "a = 10\n",
    "while a != 0:\n",
    "    print(a)\n",
    "    a = a - 1"
   ]
  },
  {
   "cell_type": "markdown",
   "id": "6d7c7fe0",
   "metadata": {},
   "source": [
    "#### 2. For Statements \n",
    "\n",
    "- In python the for statement syntax looks like this\n",
    "        for iterator in iterable:\n",
    "            Statements.....\n",
    "            \n",
    "- Iterable refers to an object that can be broken down into smaller elements like an array or a string or even a range\n",
    "\n",
    "- An iterator iterates over an iterable"
   ]
  },
  {
   "cell_type": "code",
   "execution_count": 5,
   "id": "5509fff1",
   "metadata": {},
   "outputs": [
    {
     "name": "stdout",
     "output_type": "stream",
     "text": [
      "p\n",
      "y\n",
      "t\n",
      "h\n",
      "o\n",
      "n\n"
     ]
    }
   ],
   "source": [
    "for a in \"python\": #using a string as an iterable\n",
    "    print(a)"
   ]
  },
  {
   "cell_type": "code",
   "execution_count": 7,
   "id": "b21bf6a7",
   "metadata": {},
   "outputs": [
    {
     "name": "stdout",
     "output_type": "stream",
     "text": [
      "5\n",
      "6\n",
      "7\n",
      "8\n",
      "9\n"
     ]
    }
   ],
   "source": [
    "for a in range(5,10): #using a range -> first number in range is included but only up to second number\n",
    "                      #excluding \n",
    "    print(a)"
   ]
  },
  {
   "cell_type": "code",
   "execution_count": null,
   "id": "8a212911",
   "metadata": {},
   "outputs": [],
   "source": []
  }
 ],
 "metadata": {
  "kernelspec": {
   "display_name": "Python 3 (ipykernel)",
   "language": "python",
   "name": "python3"
  },
  "language_info": {
   "codemirror_mode": {
    "name": "ipython",
    "version": 3
   },
   "file_extension": ".py",
   "mimetype": "text/x-python",
   "name": "python",
   "nbconvert_exporter": "python",
   "pygments_lexer": "ipython3",
   "version": "3.7.3"
  }
 },
 "nbformat": 4,
 "nbformat_minor": 5
}
